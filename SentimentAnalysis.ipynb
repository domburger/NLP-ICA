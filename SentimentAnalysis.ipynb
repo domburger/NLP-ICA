{
 "cells": [
  {
   "cell_type": "markdown",
   "metadata": {
    "collapsed": false,
    "pycharm": {
     "name": "#%% md\n"
    }
   },
   "source": [
    "# Sentiment Analysis"
   ]
  },
  {
   "cell_type": "code",
   "execution_count": 1,
   "metadata": {
    "collapsed": false,
    "pycharm": {
     "name": "#%%\n"
    }
   },
   "outputs": [],
   "source": [
    "import pandas as pd\n",
    "from datetime import datetime, date\n",
    "import matplotlib.pyplot as plt\n",
    "from tqdm.notebook import tqdm\n",
    "\n",
    "from nltk.sentiment.vader import SentimentIntensityAnalyzer as SIA"
   ]
  },
  {
   "cell_type": "code",
   "execution_count": 2,
   "outputs": [],
   "source": [
    "raw_data = pd.read_csv(\"data/q_ethereum_merge_reddit_full10.csv\")#, index_col=\"time\")"
   ],
   "metadata": {
    "collapsed": false,
    "pycharm": {
     "name": "#%%\n"
    }
   }
  },
  {
   "cell_type": "code",
   "execution_count": 3,
   "outputs": [
    {
     "data": {
      "text/plain": "  0%|          | 0/1022 [00:00<?, ?it/s]",
      "application/vnd.jupyter.widget-view+json": {
       "version_major": 2,
       "version_minor": 0,
       "model_id": "d77cb464dd34413faa70e1075e09248d"
      }
     },
     "metadata": {},
     "output_type": "display_data"
    }
   ],
   "source": [
    "sia = SIA()\n",
    "scores = []\n",
    "for line in tqdm(raw_data[\"text\"]):\n",
    "    pol_score = sia.polarity_scores(line)\n",
    "    scores.append(pol_score)\n",
    "\n",
    "scores = pd.DataFrame(scores)\n",
    "data = pd.concat([raw_data, scores], axis=1)"
   ],
   "metadata": {
    "collapsed": false,
    "pycharm": {
     "name": "#%%\n"
    }
   }
  },
  {
   "cell_type": "code",
   "execution_count": 4,
   "outputs": [],
   "source": [
    "data[\"time\"] = pd.to_datetime(data[\"time\"])"
   ],
   "metadata": {
    "collapsed": false,
    "pycharm": {
     "name": "#%%\n"
    }
   }
  },
  {
   "cell_type": "code",
   "execution_count": 5,
   "outputs": [],
   "source": [
    "data_after = data[data[\"time\"] > \"2022-09-15 00:00:00\"]\n",
    "data_during = data[(data[\"time\"] < \"2022-09-15 00:00:00\") & (data[\"time\"] > \"2020-12-01 00:00:00\")]\n",
    "data_before = data[data[\"time\"] < \"2020-12-01 00:00:00\"]"
   ],
   "metadata": {
    "collapsed": false,
    "pycharm": {
     "name": "#%%\n"
    }
   }
  },
  {
   "cell_type": "code",
   "execution_count": 10,
   "outputs": [
    {
     "name": "stdout",
     "output_type": "stream",
     "text": [
      "Avg compound before: 0.840 (78 posts)\n",
      "Avg compound during: 0.642 (799 posts)\n",
      "Avg compound after: 0.590 (145 posts)\n"
     ]
    }
   ],
   "source": [
    "print(\"Avg compound before: \" + \"{:.3f}\".format(data_before['compound'].mean()) + \" (\" + str(len(data_before)) + \" posts)\")"
   ],
   "metadata": {
    "collapsed": false,
    "pycharm": {
     "name": "#%%\n"
    }
   }
  },
  {
   "cell_type": "code",
   "execution_count": 7,
   "outputs": [
    {
     "name": "stdout",
     "output_type": "stream",
     "text": [
      "Avg compound during: 0.642 (799 posts)\n"
     ]
    }
   ],
   "source": [
    "print(\"Avg compound during: \" + \"{:.3f}\".format(data_during['compound'].mean()) + \" (\" + str(len(data_during)) + \" posts)\")"
   ],
   "metadata": {
    "collapsed": false,
    "pycharm": {
     "name": "#%%\n"
    }
   }
  },
  {
   "cell_type": "code",
   "execution_count": 8,
   "outputs": [
    {
     "name": "stdout",
     "output_type": "stream",
     "text": [
      "Avg compound before: 0.840 (78 posts)\n"
     ]
    }
   ],
   "source": [
    "print(\"Avg compound after: \" + \"{:.3f}\".format(data_after['compound'].mean()) + \" (\" + str(len(data_after)) + \" posts)\")"
   ],
   "metadata": {
    "collapsed": false,
    "pycharm": {
     "name": "#%%\n"
    }
   }
  }
 ],
 "metadata": {
  "kernelspec": {
   "display_name": "Python 3",
   "language": "python",
   "name": "python3"
  },
  "language_info": {
   "codemirror_mode": {
    "name": "ipython",
    "version": 2
   },
   "file_extension": ".py",
   "mimetype": "text/x-python",
   "name": "python",
   "nbconvert_exporter": "python",
   "pygments_lexer": "ipython2",
   "version": "2.7.6"
  }
 },
 "nbformat": 4,
 "nbformat_minor": 0
}